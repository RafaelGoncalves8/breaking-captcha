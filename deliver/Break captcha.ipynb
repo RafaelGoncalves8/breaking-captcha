{
 "cells": [
  {
   "cell_type": "code",
   "execution_count": 23,
   "metadata": {},
   "outputs": [],
   "source": [
    "import os\n",
    "import random\n",
    "import gc\n",
    "\n",
    "import torch\n",
    "import torchvision\n",
    "import torchvision.datasets as datasets\n",
    "import torch.nn as nn\n",
    "import torch.optim as optim\n",
    "import torch.nn.functional as F\n",
    "\n",
    "from sklearn.preprocessing import LabelEncoder\n",
    "from sklearn.model_selection import train_test_split\n",
    "\n",
    "import cv2\n",
    "from imutils import paths\n",
    "import numpy as np\n",
    "import scipy.io\n",
    "import matplotlib.pyplot as plt\n",
    "%matplotlib inline"
   ]
  },
  {
   "cell_type": "code",
   "execution_count": 2,
   "metadata": {},
   "outputs": [],
   "source": [
    "os.sys.path.append('../src')\n",
    "from helpers import resize_to_fit"
   ]
  },
  {
   "cell_type": "code",
   "execution_count": 3,
   "metadata": {},
   "outputs": [],
   "source": [
    "data_dir = os.path.abspath(os.path.relpath('../data'))\n",
    "image_dir = os.path.abspath(os.path.relpath('../doc/images'))"
   ]
  },
  {
   "cell_type": "markdown",
   "metadata": {},
   "source": [
    "## Convolutional Neural Network"
   ]
  },
  {
   "cell_type": "code",
   "execution_count": 4,
   "metadata": {},
   "outputs": [],
   "source": [
    "mnist_trainset = datasets.MNIST(root='../data', train=True, download=True,\n",
    "                                transform=torchvision.transforms.Compose([\n",
    "                               torchvision.transforms.ToTensor()]))\n",
    "\n",
    "mnist_testset = datasets.MNIST(root='../data', train=False, download=True,\n",
    "                               transform=torchvision.transforms.Compose([\n",
    "                               torchvision.transforms.ToTensor()]))"
   ]
  },
  {
   "cell_type": "code",
   "execution_count": 5,
   "metadata": {},
   "outputs": [],
   "source": [
    "LETTER_IMAGES_FOLDER = \"../data/extracted_letter_images\"\n",
    "MODEL_LABELS_FILENAME = \"model_labels.dat\"\n",
    "\n",
    "\n",
    "# initialize the data and labels\n",
    "data = []\n",
    "labels = []\n",
    "\n",
    "# loop over the input images\n",
    "for image_file in paths.list_images(LETTER_IMAGES_FOLDER):\n",
    "    # Load the image and convert it to grayscale\n",
    "    image = cv2.imread(image_file)\n",
    "    image = cv2.cvtColor(image, cv2.COLOR_BGR2GRAY)\n",
    "\n",
    "    # Resize the letter so it fits in a 28x28 pixel box\n",
    "    image = resize_to_fit(image, 28, 28)\n",
    "\n",
    "    # Add a third channel dimension to the image to make Keras happy\n",
    "    image = np.expand_dims(image, axis=2)\n",
    "\n",
    "    # Grab the name of the letter based on the folder it was in\n",
    "    label = image_file.split(os.path.sep)[-2]\n",
    "\n",
    "    # Add the letter image and it's label to our training data\n",
    "    data.append(image)\n",
    "    labels.append(label)\n"
   ]
  },
  {
   "cell_type": "code",
   "execution_count": 6,
   "metadata": {},
   "outputs": [],
   "source": [
    "# scale the raw pixel intensities to the range [0, 1] (this improves training)\n",
    "data = np.array(data, dtype=\"float\") / 255.0\n",
    "labels = np.array(labels)"
   ]
  },
  {
   "cell_type": "code",
   "execution_count": 24,
   "metadata": {},
   "outputs": [],
   "source": [
    "# Split the training data into separate train and test sets\n",
    "(X_train, X_test, y_train, y_test) = train_test_split(data, labels, test_size=0.25, random_state=0)\n",
    "\n",
    "# Convert the labels (letters) into one-hot encodings that Keras can work with\n",
    "le = LabelEncoder().fit(y_train)\n",
    "y_train = le.transform(y_train)\n",
    "y_test = le.transform(y_test)"
   ]
  },
  {
   "cell_type": "code",
   "execution_count": 25,
   "metadata": {},
   "outputs": [],
   "source": [
    "batch_size_train = 64\n",
    "batch_size_test = 1000\n",
    "learning_rate = 0.01\n",
    "n_epochs = 3\n",
    "log_interval = 10"
   ]
  },
  {
   "cell_type": "code",
   "execution_count": 26,
   "metadata": {},
   "outputs": [],
   "source": [
    "X_train_t = (torch.from_numpy(X_train).float().transpose(1,3)).transpose(2,3)\n",
    "y_train_t = torch.from_numpy(y_train).long()\n",
    "\n",
    "train_data = torch.utils.data.TensorDataset(X_train_t, y_train_t)\n",
    "train_loader = torch.utils.data.DataLoader(train_data, batch_size=batch_size_train, shuffle=True)"
   ]
  },
  {
   "cell_type": "code",
   "execution_count": 27,
   "metadata": {},
   "outputs": [],
   "source": [
    "X_test_t = (torch.from_numpy(X_test).float().transpose(1,3)).transpose(2,3)\n",
    "y_test_t = torch.from_numpy(y_test).long()\n",
    "\n",
    "test_data = torch.utils.data.TensorDataset(X_test_t, y_test_t)\n",
    "test_loader = torch.utils.data.DataLoader(test_data, batch_size=batch_size_test, shuffle=True)"
   ]
  },
  {
   "cell_type": "code",
   "execution_count": 28,
   "metadata": {},
   "outputs": [],
   "source": [
    "examples = enumerate(test_loader)\n",
    "batch_idx, (example_data, example_targets) = next(examples)"
   ]
  },
  {
   "cell_type": "code",
   "execution_count": 29,
   "metadata": {},
   "outputs": [
    {
     "data": {
      "image/png": "[encoded data removed]",
      "text/plain": [
       "<Figure size 432x288 with 6 Axes>"
      ]
     },
     "execution_count": 29,
     "metadata": {},
     "output_type": "execute_result"
    },
    {
     "data": {
      "image/png": "[encoded data removed]",
      "text/plain": [
       "<Figure size 432x288 with 6 Axes>"
      ]
     },
     "metadata": {},
     "output_type": "display_data"
    }
   ],
   "source": [
    "fig = plt.figure()\n",
    "for i in range(6):\n",
    "    plt.subplot(2,3,i+1)\n",
    "    plt.tight_layout()\n",
    "    plt.imshow(example_data[i][0], cmap='gray', interpolation='none')\n",
    "    plt.title(\"Ground Truth: {}\".format(le.inverse_transform(example_targets)[i]))\n",
    "    plt.xticks([])\n",
    "    plt.yticks([])\n",
    "fig"
   ]
  },
  {
   "cell_type": "code",
   "execution_count": 30,
   "metadata": {},
   "outputs": [],
   "source": [
    "class Net(nn.Module):\n",
    "    def __init__(self):\n",
    "        super(Net, self).__init__()\n",
    "        self.conv1 = nn.Conv2d(1, 10, kernel_size=5)\n",
    "        self.conv2 = nn.Conv2d(10, 20, kernel_size=5)\n",
    "        self.fc1 = nn.Linear(320, 50)\n",
    "        self.fc2 = nn.Linear(50, 32)\n",
    "        self.dropout = nn.Dropout(0.5)\n",
    "\n",
    "    def forward(self, x):\n",
    "        x = F.relu(F.max_pool2d(self.conv1(x), 2))\n",
    "        x = F.relu(F.max_pool2d(self.conv2(x), 2))\n",
    "        x = x.view(-1, 320)\n",
    "        x = F.relu(self.fc1(x))\n",
    "        x = self.dropout(x)\n",
    "        x = self.fc2(x)\n",
    "        return F.log_softmax(x, dim=0)"
   ]
  },
  {
   "cell_type": "code",
   "execution_count": 31,
   "metadata": {},
   "outputs": [],
   "source": [
    "net = Net()\n",
    "optimizer = optim.Adam(net.parameters(), lr=learning_rate)"
   ]
  },
  {
   "cell_type": "code",
   "execution_count": 32,
   "metadata": {},
   "outputs": [],
   "source": [
    "train_losses = []\n",
    "train_counter = []\n",
    "test_losses = []\n",
    "test_counter = [i*len(train_loader.dataset) for i in range(n_epochs + 1)]"
   ]
  },
  {
   "cell_type": "code",
   "execution_count": 33,
   "metadata": {},
   "outputs": [],
   "source": [
    "def train(epoch):\n",
    "    net.train()\n",
    "    for batch_idx, (data, target) in enumerate(train_loader):\n",
    "        optimizer.zero_grad()\n",
    "        output = net(data)\n",
    "        loss = F.nll_loss(output, target, reduction='mean')\n",
    "        loss.backward()\n",
    "        optimizer.step()\n",
    "        if batch_idx % log_interval == 0:\n",
    "            print('Train Epoch: {} [{}/{} ({:.0f}%)]\\tLoss: {:.6f}'.format(\n",
    "            epoch, batch_idx * len(data), len(train_loader.dataset),\n",
    "            100. * batch_idx / len(train_loader), loss.item()))\n",
    "            train_losses.append(loss.item())\n",
    "            train_counter.append(\n",
    "            (batch_idx*64) + ((epoch-1)*len(train_loader.dataset)))\n",
    "        torch.save(net.state_dict(), 'model.pth')\n",
    "        torch.save(optimizer.state_dict(), 'optimizer.pth')"
   ]
  },
  {
   "cell_type": "code",
   "execution_count": 34,
   "metadata": {},
   "outputs": [],
   "source": [
    "def test():\n",
    "    net.eval()\n",
    "    test_loss = 0\n",
    "    correct = 0\n",
    "    with torch.no_grad():\n",
    "        for data, target in test_loader:\n",
    "            output = net(data)\n",
    "            test_loss += F.nll_loss(output, target, reduction='mean').item()\n",
    "            pred = output.data.max(1, keepdim=True)[1]\n",
    "            correct += pred.eq(target.data.view_as(pred)).sum()\n",
    "#    test_loss /= len(test_loader.dataset)\n",
    "    test_losses.append(test_loss)\n",
    "    print('\\nTest set: Avg. loss: {:.4f}, Accuracy: {}/{} ({:.0f}%)\\n'.format(\n",
    "    test_loss, correct, len(test_loader.dataset),\n",
    "    100. * correct / len(test_loader.dataset)))"
   ]
  },
  {
   "cell_type": "code",
   "execution_count": 35,
   "metadata": {
    "scrolled": false
   },
   "outputs": [
    {
     "name": "stdout",
     "output_type": "stream",
     "text": [
      "\n",
      "Test set: Avg. loss: 0.0071, Accuracy: 287/9686 (2%)\n",
      "\n",
      "Train Epoch: 1 [0/29058 (0%)]\tLoss: 4.159704\n",
      "Train Epoch: 1 [640/29058 (2%)]\tLoss: 4.138360\n",
      "Train Epoch: 1 [1280/29058 (4%)]\tLoss: 3.662364\n",
      "Train Epoch: 1 [1920/29058 (7%)]\tLoss: 3.216067\n",
      "Train Epoch: 1 [2560/29058 (9%)]\tLoss: 2.696220\n",
      "Train Epoch: 1 [3200/29058 (11%)]\tLoss: 2.574133\n",
      "Train Epoch: 1 [3840/29058 (13%)]\tLoss: 2.319488\n",
      "Train Epoch: 1 [4480/29058 (15%)]\tLoss: 2.182088\n",
      "Train Epoch: 1 [5120/29058 (18%)]\tLoss: 1.959689\n",
      "Train Epoch: 1 [5760/29058 (20%)]\tLoss: 1.987445\n",
      "Train Epoch: 1 [6400/29058 (22%)]\tLoss: 1.825963\n",
      "Train Epoch: 1 [7040/29058 (24%)]\tLoss: 2.083916\n",
      "Train Epoch: 1 [7680/29058 (26%)]\tLoss: 1.670005\n",
      "Train Epoch: 1 [8320/29058 (29%)]\tLoss: 1.916914\n",
      "Train Epoch: 1 [8960/29058 (31%)]\tLoss: 1.799476\n",
      "Train Epoch: 1 [9600/29058 (33%)]\tLoss: 1.744579\n",
      "Train Epoch: 1 [10240/29058 (35%)]\tLoss: 1.821005\n",
      "Train Epoch: 1 [10880/29058 (37%)]\tLoss: 1.673122\n",
      "Train Epoch: 1 [11520/29058 (40%)]\tLoss: 1.720107\n",
      "Train Epoch: 1 [12160/29058 (42%)]\tLoss: 1.414006\n",
      "Train Epoch: 1 [12800/29058 (44%)]\tLoss: 1.499387\n",
      "Train Epoch: 1 [13440/29058 (46%)]\tLoss: 1.720412\n",
      "Train Epoch: 1 [14080/29058 (48%)]\tLoss: 1.473709\n",
      "Train Epoch: 1 [14720/29058 (51%)]\tLoss: 1.779337\n",
      "Train Epoch: 1 [15360/29058 (53%)]\tLoss: 1.478903\n",
      "Train Epoch: 1 [16000/29058 (55%)]\tLoss: 1.277170\n",
      "Train Epoch: 1 [16640/29058 (57%)]\tLoss: 1.459948\n",
      "Train Epoch: 1 [17280/29058 (59%)]\tLoss: 1.668092\n",
      "Train Epoch: 1 [17920/29058 (62%)]\tLoss: 1.361163\n",
      "Train Epoch: 1 [18560/29058 (64%)]\tLoss: 1.409190\n",
      "Train Epoch: 1 [19200/29058 (66%)]\tLoss: 1.410593\n",
      "Train Epoch: 1 [19840/29058 (68%)]\tLoss: 1.445879\n",
      "Train Epoch: 1 [20480/29058 (70%)]\tLoss: 1.438030\n",
      "Train Epoch: 1 [21120/29058 (73%)]\tLoss: 1.350873\n",
      "Train Epoch: 1 [21760/29058 (75%)]\tLoss: 1.455855\n",
      "Train Epoch: 1 [22400/29058 (77%)]\tLoss: 1.358455\n",
      "Train Epoch: 1 [23040/29058 (79%)]\tLoss: 1.523123\n",
      "Train Epoch: 1 [23680/29058 (81%)]\tLoss: 1.487100\n",
      "Train Epoch: 1 [24320/29058 (84%)]\tLoss: 1.402532\n",
      "Train Epoch: 1 [24960/29058 (86%)]\tLoss: 1.306927\n",
      "Train Epoch: 1 [25600/29058 (88%)]\tLoss: 1.292252\n",
      "Train Epoch: 1 [26240/29058 (90%)]\tLoss: 1.348223\n",
      "Train Epoch: 1 [26880/29058 (92%)]\tLoss: 1.370633\n",
      "Train Epoch: 1 [27520/29058 (95%)]\tLoss: 1.305163\n",
      "Train Epoch: 1 [28160/29058 (97%)]\tLoss: 1.421656\n",
      "Train Epoch: 1 [28800/29058 (99%)]\tLoss: 1.298378\n",
      "\n",
      "Test set: Avg. loss: 0.0036, Accuracy: 9599/9686 (99%)\n",
      "\n",
      "Train Epoch: 2 [0/29058 (0%)]\tLoss: 1.371564\n",
      "Train Epoch: 2 [640/29058 (2%)]\tLoss: 1.392133\n",
      "Train Epoch: 2 [1280/29058 (4%)]\tLoss: 1.228097\n",
      "Train Epoch: 2 [1920/29058 (7%)]\tLoss: 1.289698\n",
      "Train Epoch: 2 [2560/29058 (9%)]\tLoss: 1.197431\n",
      "Train Epoch: 2 [3200/29058 (11%)]\tLoss: 1.236731\n",
      "Train Epoch: 2 [3840/29058 (13%)]\tLoss: 1.355618\n",
      "Train Epoch: 2 [4480/29058 (15%)]\tLoss: 1.223392\n",
      "Train Epoch: 2 [5120/29058 (18%)]\tLoss: 1.333129\n",
      "Train Epoch: 2 [5760/29058 (20%)]\tLoss: 1.238471\n",
      "Train Epoch: 2 [6400/29058 (22%)]\tLoss: 1.310332\n",
      "Train Epoch: 2 [7040/29058 (24%)]\tLoss: 1.194463\n",
      "Train Epoch: 2 [7680/29058 (26%)]\tLoss: 1.094366\n",
      "Train Epoch: 2 [8320/29058 (29%)]\tLoss: 1.399204\n",
      "Train Epoch: 2 [8960/29058 (31%)]\tLoss: 1.246662\n",
      "Train Epoch: 2 [9600/29058 (33%)]\tLoss: 1.268376\n",
      "Train Epoch: 2 [10240/29058 (35%)]\tLoss: 1.426766\n",
      "Train Epoch: 2 [10880/29058 (37%)]\tLoss: 1.187932\n",
      "Train Epoch: 2 [11520/29058 (40%)]\tLoss: 1.292471\n",
      "Train Epoch: 2 [12160/29058 (42%)]\tLoss: 1.247747\n",
      "Train Epoch: 2 [12800/29058 (44%)]\tLoss: 1.311724\n",
      "Train Epoch: 2 [13440/29058 (46%)]\tLoss: 1.281284\n",
      "Train Epoch: 2 [14080/29058 (48%)]\tLoss: 1.286225\n",
      "Train Epoch: 2 [14720/29058 (51%)]\tLoss: 1.195084\n",
      "Train Epoch: 2 [15360/29058 (53%)]\tLoss: 1.162964\n",
      "Train Epoch: 2 [16000/29058 (55%)]\tLoss: 1.382322\n",
      "Train Epoch: 2 [16640/29058 (57%)]\tLoss: 1.353216\n",
      "Train Epoch: 2 [17280/29058 (59%)]\tLoss: 1.526186\n",
      "Train Epoch: 2 [17920/29058 (62%)]\tLoss: 1.194313\n",
      "Train Epoch: 2 [18560/29058 (64%)]\tLoss: 1.130144\n",
      "Train Epoch: 2 [19200/29058 (66%)]\tLoss: 1.359425\n",
      "Train Epoch: 2 [19840/29058 (68%)]\tLoss: 1.131258\n",
      "Train Epoch: 2 [20480/29058 (70%)]\tLoss: 1.233702\n",
      "Train Epoch: 2 [21120/29058 (73%)]\tLoss: 1.356148\n",
      "Train Epoch: 2 [21760/29058 (75%)]\tLoss: 1.260624\n",
      "Train Epoch: 2 [22400/29058 (77%)]\tLoss: 1.283207\n",
      "Train Epoch: 2 [23040/29058 (79%)]\tLoss: 1.282397\n",
      "Train Epoch: 2 [23680/29058 (81%)]\tLoss: 1.273052\n",
      "Train Epoch: 2 [24320/29058 (84%)]\tLoss: 1.251217\n",
      "Train Epoch: 2 [24960/29058 (86%)]\tLoss: 1.174078\n",
      "Train Epoch: 2 [25600/29058 (88%)]\tLoss: 1.250386\n",
      "Train Epoch: 2 [26240/29058 (90%)]\tLoss: 1.239139\n",
      "Train Epoch: 2 [26880/29058 (92%)]\tLoss: 1.230577\n",
      "Train Epoch: 2 [27520/29058 (95%)]\tLoss: 1.288252\n",
      "Train Epoch: 2 [28160/29058 (97%)]\tLoss: 1.313479\n",
      "Train Epoch: 2 [28800/29058 (99%)]\tLoss: 1.149102\n",
      "\n",
      "Test set: Avg. loss: 0.0036, Accuracy: 9624/9686 (99%)\n",
      "\n",
      "Train Epoch: 3 [0/29058 (0%)]\tLoss: 1.187968\n",
      "Train Epoch: 3 [640/29058 (2%)]\tLoss: 1.202657\n",
      "Train Epoch: 3 [1280/29058 (4%)]\tLoss: 1.104619\n",
      "Train Epoch: 3 [1920/29058 (7%)]\tLoss: 1.036759\n",
      "Train Epoch: 3 [2560/29058 (9%)]\tLoss: 1.187446\n",
      "Train Epoch: 3 [3200/29058 (11%)]\tLoss: 1.228269\n",
      "Train Epoch: 3 [3840/29058 (13%)]\tLoss: 1.271207\n",
      "Train Epoch: 3 [4480/29058 (15%)]\tLoss: 1.060513\n",
      "Train Epoch: 3 [5120/29058 (18%)]\tLoss: 1.288121\n",
      "Train Epoch: 3 [5760/29058 (20%)]\tLoss: 1.237023\n",
      "Train Epoch: 3 [6400/29058 (22%)]\tLoss: 1.486861\n",
      "Train Epoch: 3 [7040/29058 (24%)]\tLoss: 1.390792\n",
      "Train Epoch: 3 [7680/29058 (26%)]\tLoss: 1.401882\n",
      "Train Epoch: 3 [8320/29058 (29%)]\tLoss: 1.127502\n",
      "Train Epoch: 3 [8960/29058 (31%)]\tLoss: 1.263244\n",
      "Train Epoch: 3 [9600/29058 (33%)]\tLoss: 1.128994\n",
      "Train Epoch: 3 [10240/29058 (35%)]\tLoss: 1.279093\n",
      "Train Epoch: 3 [10880/29058 (37%)]\tLoss: 1.207464\n",
      "Train Epoch: 3 [11520/29058 (40%)]\tLoss: 1.164947\n",
      "Train Epoch: 3 [12160/29058 (42%)]\tLoss: 1.216526\n",
      "Train Epoch: 3 [12800/29058 (44%)]\tLoss: 1.259638\n",
      "Train Epoch: 3 [13440/29058 (46%)]\tLoss: 1.322964\n",
      "Train Epoch: 3 [14080/29058 (48%)]\tLoss: 1.244368\n",
      "Train Epoch: 3 [14720/29058 (51%)]\tLoss: 1.250294\n",
      "Train Epoch: 3 [15360/29058 (53%)]\tLoss: 1.213483\n",
      "Train Epoch: 3 [16000/29058 (55%)]\tLoss: 1.235876\n",
      "Train Epoch: 3 [16640/29058 (57%)]\tLoss: 1.154223\n",
      "Train Epoch: 3 [17280/29058 (59%)]\tLoss: 1.150015\n",
      "Train Epoch: 3 [17920/29058 (62%)]\tLoss: 1.189213\n",
      "Train Epoch: 3 [18560/29058 (64%)]\tLoss: 1.241780\n",
      "Train Epoch: 3 [19200/29058 (66%)]\tLoss: 1.220069\n",
      "Train Epoch: 3 [19840/29058 (68%)]\tLoss: 1.173650\n",
      "Train Epoch: 3 [20480/29058 (70%)]\tLoss: 1.317554\n",
      "Train Epoch: 3 [21120/29058 (73%)]\tLoss: 1.362161\n",
      "Train Epoch: 3 [21760/29058 (75%)]\tLoss: 1.172669\n",
      "Train Epoch: 3 [22400/29058 (77%)]\tLoss: 1.221770\n",
      "Train Epoch: 3 [23040/29058 (79%)]\tLoss: 1.121981\n",
      "Train Epoch: 3 [23680/29058 (81%)]\tLoss: 1.133083\n",
      "Train Epoch: 3 [24320/29058 (84%)]\tLoss: 1.242954\n",
      "Train Epoch: 3 [24960/29058 (86%)]\tLoss: 1.096784\n",
      "Train Epoch: 3 [25600/29058 (88%)]\tLoss: 1.158776\n",
      "Train Epoch: 3 [26240/29058 (90%)]\tLoss: 1.105025\n",
      "Train Epoch: 3 [26880/29058 (92%)]\tLoss: 1.264652\n",
      "Train Epoch: 3 [27520/29058 (95%)]\tLoss: 1.306260\n",
      "Train Epoch: 3 [28160/29058 (97%)]\tLoss: 1.151694\n",
      "Train Epoch: 3 [28800/29058 (99%)]\tLoss: 1.194204\n",
      "\n",
      "Test set: Avg. loss: 0.0036, Accuracy: 9626/9686 (99%)\n",
      "\n"
     ]
    }
   ],
   "source": [
    "test()\n",
    "for epoch in range(1, n_epochs + 1):\n",
    "    train(epoch)\n",
    "    test()"
   ]
  },
  {
   "cell_type": "code",
   "execution_count": 36,
   "metadata": {},
   "outputs": [
    {
     "data": {
      "image/png": "[encoded data removed]",
      "text/plain": [
       "<Figure size 432x288 with 1 Axes>"
      ]
     },
     "metadata": {
      "needs_background": "light"
     },
     "output_type": "display_data"
    }
   ],
   "source": [
    "fig = plt.figure()\n",
    "plt.plot(train_counter, train_losses, color='blue')\n",
    "plt.scatter(test_counter, test_losses, color='red')\n",
    "plt.legend(['Train Loss', 'Test Loss'], loc='upper right')\n",
    "plt.xlabel('number of training examples seen')\n",
    "plt.ylabel('negative log likelihood loss')\n",
    "plt.show()"
   ]
  },
  {
   "cell_type": "code",
   "execution_count": 38,
   "metadata": {},
   "outputs": [],
   "source": [
    "with torch.no_grad():\n",
    "    output = net(example_data)"
   ]
  },
  {
   "cell_type": "code",
   "execution_count": 44,
   "metadata": {},
   "outputs": [
    {
     "data": {
      "image/png": "[encoded data removed]",
      "text/plain": [
       "<Figure size 432x288 with 6 Axes>"
      ]
     },
     "execution_count": 44,
     "metadata": {},
     "output_type": "execute_result"
    },
    {
     "data": {
      "image/png": "[encoded data removed]",
      "text/plain": [
       "<Figure size 432x288 with 6 Axes>"
      ]
     },
     "metadata": {},
     "output_type": "display_data"
    }
   ],
   "source": [
    "fig = plt.figure()\n",
    "for i in range(6):\n",
    "    plt.subplot(2,3,i+1)\n",
    "    plt.tight_layout()\n",
    "    plt.imshow(example_data[i][0], cmap='gray', interpolation='none')\n",
    "    plt.title(\"Prediction: {}\".format(le.inverse_transform(output.data.max(1, keepdim=True)[1][i])[0]))\n",
    "    plt.xticks([])\n",
    "    plt.yticks([])\n",
    "fig"
   ]
  },
  {
   "cell_type": "code",
   "execution_count": null,
   "metadata": {},
   "outputs": [],
   "source": []
  }
 ],
 "metadata": {
  "kernelspec": {
   "display_name": "Python 3",
   "language": "python",
   "name": "python3"
  },
  "language_info": {
   "codemirror_mode": {
    "name": "ipython",
    "version": 3
   },
   "file_extension": ".py",
   "mimetype": "text/x-python",
   "name": "python",
   "nbconvert_exporter": "python",
   "pygments_lexer": "ipython3",
   "version": "3.7.3"
  }
 },
 "nbformat": 4,
 "nbformat_minor": 2
}
