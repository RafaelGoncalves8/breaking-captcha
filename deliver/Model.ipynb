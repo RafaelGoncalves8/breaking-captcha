{
 "cells": [
  {
   "cell_type": "code",
   "execution_count": 24,
   "metadata": {},
   "outputs": [],
   "source": [
    "import os\n",
    "import random\n",
    "import gc\n",
    "\n",
    "import torch\n",
    "import torchvision\n",
    "import torchvision.datasets as datasets\n",
    "import torch.nn as nn\n",
    "import torch.optim as optim\n",
    "import torch.nn.functional as F\n",
    "\n",
    "from sklearn.preprocessing import LabelEncoder\n",
    "from sklearn.model_selection import KFold, train_test_split\n",
    "from sklearn.cluster import KMeans\n",
    "\n",
    "import cv2\n",
    "from imutils import paths\n",
    "import numpy as np\n",
    "import scipy.io\n",
    "import matplotlib.pyplot as plt\n",
    "%matplotlib inline\n",
    "\n",
    "os.sys.path.append('../src')\n",
    "from helpers import resize_to_fit"
   ]
  },
  {
   "cell_type": "code",
   "execution_count": 25,
   "metadata": {},
   "outputs": [],
   "source": [
    "data_dir = os.path.abspath(os.path.relpath('../data'))\n",
    "image_dir = os.path.abspath(os.path.relpath('../doc/images'))"
   ]
  },
  {
   "cell_type": "code",
   "execution_count": 26,
   "metadata": {},
   "outputs": [],
   "source": [
    "CAPTCHA_IMAGES_FOLDER = \"../data/samples\"\n",
    "\n",
    "# initialize the data and labels\n",
    "data = []\n",
    "labels = []\n",
    "\n",
    "# loop over the input images\n",
    "for image_file in paths.list_images(CAPTCHA_IMAGES_FOLDER):\n",
    "    # Load the image and convert it to grayscale\n",
    "    image = cv2.imread(image_file)\n",
    "    image = cv2.cvtColor(image, cv2.COLOR_BGR2GRAY)\n",
    "\n",
    "    # Grab the labels\n",
    "    label = image_file.split(os.path.sep)[-1].split('.')[-2]\n",
    "\n",
    "    # Add the image and it's label to our training data\n",
    "    data.append(image)\n",
    "    labels.append(label)"
   ]
  },
  {
   "cell_type": "code",
   "execution_count": 27,
   "metadata": {},
   "outputs": [],
   "source": [
    "(X_train, X_test, y_train, y_test) = train_test_split(data, labels, test_size=0.25, random_state=0)"
   ]
  },
  {
   "cell_type": "code",
   "execution_count": 28,
   "metadata": {},
   "outputs": [],
   "source": [
    "def create_images(data, label):\n",
    "    # Otsu threashold\n",
    "    data_pre = []\n",
    "    for e in data:\n",
    "        ret, th = cv2.threshold(e, 0, 255, cv2.THRESH_BINARY + cv2.THRESH_OTSU)\n",
    "        kernel = np.ones((3,3), np.uint8)\n",
    "        dilation = cv2.dilate(th, kernel, iterations=1)\n",
    "        erosion = cv2.erode(dilation, kernel, iterations=1)\n",
    "        data_pre.append(erosion)\n",
    "    \n",
    "    # K-means\n",
    "    data_pts = []\n",
    "    for e in data_pre:\n",
    "        data_pts.append(np.where(e == 0))\n",
    "    data_pts = np.array(data_pts)\n",
    "    \n",
    "    X = []\n",
    "    thres = 3\n",
    "    for e in data_pts:\n",
    "        x = (np.vstack((e[1],np.flip(e[0])))).T\n",
    "        l = []\n",
    "        # Discard columns with less than thres points\n",
    "        for i in range(200):\n",
    "            if len(x[x[:,0] == i]) > thres:\n",
    "                for f in x[x[:,0] == i]:\n",
    "                    l.append(f)\n",
    "        x = np.array(l)\n",
    "        X.append(x)\n",
    "    X = np.array(X)\n",
    "    \n",
    "    # Projection in x-axis\n",
    "    X_proj = [x[:,0].reshape(-1,1) for x in X]\n",
    "    \n",
    "    # Find clusters in projected data\n",
    "    y_kmeans_proj = []\n",
    "    centers_kmeans_proj = []\n",
    "    for i, x in enumerate(X_proj):\n",
    "        kmeans = KMeans(n_clusters=5)#, init=np.array([(i*200/6.0, 25) for i in range(1,6)]))\n",
    "        kmeans.fit(x)\n",
    "        centers_kmeans_proj.append(kmeans.cluster_centers_)\n",
    "        y_kmeans_proj.append(kmeans.predict(x))\n",
    "\n",
    "    centers = [np.sort(e, axis=0) for e in centers_kmeans_proj]\n",
    "    data_chars = []\n",
    "    for i, e in enumerate(data_pre):\n",
    "        chars = []\n",
    "        for j in range(5):\n",
    "            chars.append(e[:,int(centers[i][j]-21):int(centers[i][j]+21)])\n",
    "        data_chars.append(chars)\n",
    "        \n",
    "    return data_chars"
   ]
  },
  {
   "cell_type": "code",
   "execution_count": 30,
   "metadata": {},
   "outputs": [],
   "source": [
    "letters_train_dir = '../data/letters/train'\n",
    "\n",
    "data_chars = create_images(X_train, y_train)\n",
    "\n",
    "if not(os.path.isdir(''.join((letters_train_dir)))):\n",
    "    os.mkdir(''.join((letters_train_dir)))\n",
    "\n",
    "for i,e in enumerate(data_chars):\n",
    "    for j in range(5):\n",
    "        if not(os.path.isdir(''.join((letters_train_dir,'/',y_train[i],'/')))):\n",
    "            os.mkdir(''.join((letters_train_dir,'/',y_train[i],'/')))\n",
    "        cv2.imwrite(''.join((letters_train_dir,'/',y_train[i],'/',y_train[i][j],'.png')),e[j])"
   ]
  },
  {
   "cell_type": "code",
   "execution_count": 31,
   "metadata": {},
   "outputs": [],
   "source": [
    "letters_test_dir = '../data/letters/test'\n",
    "\n",
    "data_chars_test = create_images(X_test, y_test)\n",
    "\n",
    "if not(os.path.isdir(''.join((letters_test_dir)))):\n",
    "    os.mkdir(''.join((letters_test_dir)))\n",
    "\n",
    "for i,e in enumerate(data_chars_test):\n",
    "    for j in range(5):\n",
    "        if not(os.path.isdir(''.join((letters_test_dir,'/',y_test[i],'/')))):\n",
    "            os.mkdir(''.join((letters_test_dir,'/',y_test[i],'/')))\n",
    "        cv2.imwrite(''.join((letters_test_dir,'/',y_test[i],'/',y_test[i][j],'.png')),e[j])"
   ]
  },
  {
   "cell_type": "code",
   "execution_count": 32,
   "metadata": {},
   "outputs": [],
   "source": [
    "LETTER_IMAGES_FOLDER = letters_train_dir\n",
    "\n",
    "# initialize the data and labels\n",
    "data_l_train = []\n",
    "labels_l_train = []\n",
    "\n",
    "# loop over the input images\n",
    "for image_file in paths.list_images(LETTER_IMAGES_FOLDER):\n",
    "    # Load the image and convert it to grayscale\n",
    "    image = cv2.imread(image_file)\n",
    "    image = cv2.cvtColor(image, cv2.COLOR_BGR2GRAY)\n",
    "\n",
    "    # Resize the letter so it fits in a 28x28 pixel box\n",
    "    image = resize_to_fit(image, 28, 28)\n",
    "\n",
    "    # Add a third channel dimension to the image to make Keras happy\n",
    "    image = np.expand_dims(image, axis=2)\n",
    "\n",
    "    # Grab the name of the letter based on the folder it was in\n",
    "    label = image_file.split(os.path.sep)[-2].split('.')[-2]\n",
    "\n",
    "    # Add the letter image and it's label to our training data\n",
    "    data_l_train.append(image)\n",
    "    labels_l_train.append(label)\n"
   ]
  },
  {
   "cell_type": "code",
   "execution_count": 33,
   "metadata": {},
   "outputs": [],
   "source": [
    "LETTER_IMAGES_FOLDER = letters_test_dir\n",
    "\n",
    "# initialize the data and labels\n",
    "data_l_train = []\n",
    "labels_l_train = []\n",
    "\n",
    "# loop over the input images\n",
    "for image_file in paths.list_images(LETTER_IMAGES_FOLDER):\n",
    "    # Load the image and convert it to grayscale\n",
    "    image = cv2.imread(image_file)\n",
    "    image = cv2.cvtColor(image, cv2.COLOR_BGR2GRAY)\n",
    "\n",
    "    # Resize the letter so it fits in a 28x28 pixel box\n",
    "    image = resize_to_fit(image, 28, 28)\n",
    "\n",
    "    # Add a third channel dimension to the image to make Keras happy\n",
    "    image = np.expand_dims(image, axis=2)\n",
    "\n",
    "    # Grab the name of the letter based on the folder it was in\n",
    "    label = image_file.split(os.path.sep)[-1].split('.')[-2]\n",
    "\n",
    "    # Add the letter image and it's label to our training data\n",
    "    data_l_train.append(image)\n",
    "    labels_l_train.append(label)"
   ]
  },
  {
   "cell_type": "code",
   "execution_count": 36,
   "metadata": {},
   "outputs": [],
   "source": [
    "# scale the raw pixel intensities to the range [0, 1] (this improves training)\n",
    "X_l_train = np.array(data_l_train, dtype=\"float\") / 255.0\n",
    "y_l_test = np.array(data_l_test, dtype=\"float\") / 255.0"
   ]
  },
  {
   "cell_type": "code",
   "execution_count": 22,
   "metadata": {},
   "outputs": [],
   "source": [
    "# Convert the labels (letters) into one-hot encodings that Keras can work with\n",
    "le = LabelEncoder().fit(np.array(labels_l_train))\n",
    "y_train = le.transform(np.array(y_train)\n",
    "y_test = le.transform(y_test)"
   ]
  },
  {
   "cell_type": "code",
   "execution_count": 23,
   "metadata": {},
   "outputs": [],
   "source": [
    "batch_size_train = 100\n",
    "batch_size_test = 1000\n",
    "learning_rate = 0.01\n",
    "n_epochs = 15\n",
    "log_interval = 10"
   ]
  },
  {
   "cell_type": "code",
   "execution_count": 24,
   "metadata": {},
   "outputs": [],
   "source": [
    "X_train_t = (torch.from_numpy(X_train).float().transpose(1,3)).transpose(2,3)\n",
    "y_train_t = torch.from_numpy(y_train).long()\n",
    "\n",
    "train_data = torch.utils.data.TensorDataset(X_train_t, y_train_t)\n",
    "train_loader = torch.utils.data.DataLoader(train_data, batch_size=round(batch_size_train), shuffle=True)"
   ]
  },
  {
   "cell_type": "code",
   "execution_count": 25,
   "metadata": {},
   "outputs": [],
   "source": [
    "X_test_t = (torch.from_numpy(X_test).float().transpose(1,3)).transpose(2,3)\n",
    "y_test_t = torch.from_numpy(y_test).long()\n",
    "\n",
    "test_data = torch.utils.data.TensorDataset(X_test_t, y_test_t)\n",
    "test_loader = torch.utils.data.DataLoader(test_data, batch_size=batch_size_test, shuffle=True)"
   ]
  },
  {
   "cell_type": "code",
   "execution_count": null,
   "metadata": {},
   "outputs": [],
   "source": []
  },
  {
   "cell_type": "code",
   "execution_count": null,
   "metadata": {},
   "outputs": [],
   "source": [
    "class Net(nn.Module):\n",
    "    def __init__(self):\n",
    "        super(Net, self).__init__()\n",
    "        self.conv1 = nn.Conv2d(1, 10, kernel_size=5)\n",
    "        self.conv2 = nn.Conv2d(10, 20, kernel_size=5)\n",
    "        self.fc1 = nn.Linear(320, 120)\n",
    "        self.fc2 = nn.Linear(120, 32)\n",
    "        self.dropout = nn.Dropout(0.3)\n",
    "\n",
    "    def forward(self, x):\n",
    "        x = F.relu(F.max_pool2d(self.conv1(x), 2))\n",
    "        x = F.relu(F.max_pool2d(self.conv2(x), 2))\n",
    "        x = x.view(-1, 320)\n",
    "        x = F.relu(self.fc1(x))\n",
    "        x = self.dropout(x)\n",
    "        x = self.fc2(x)\n",
    "        x = self.dropout(x)\n",
    "        return F.log_softmax(x, dim=0)"
   ]
  },
  {
   "cell_type": "code",
   "execution_count": null,
   "metadata": {},
   "outputs": [],
   "source": [
    "def train(epoch, v=True):\n",
    "    net.train()\n",
    "    for batch_idx, (data, target) in enumerate(train_loader):\n",
    "        optimizer.zero_grad()\n",
    "        output = net(data)\n",
    "        loss = F.nll_loss(output, target, reduction='mean')\n",
    "        loss.backward()\n",
    "        optimizer.step()\n",
    "        if batch_idx % log_interval == 0:\n",
    "            if v:\n",
    "                print('Train Epoch: {} [{}/{} ({:.0f}%)]\\tLoss: {:.6f}'.format(\n",
    "                epoch, batch_idx * len(data), len(train_loader.dataset),\n",
    "                100. * batch_idx / len(train_loader), loss.item()))\n",
    "            train_losses.append(loss.item())\n",
    "            train_counter.append(\n",
    "            (batch_idx*64) + ((epoch-1)*len(train_loader.dataset)))\n",
    "        torch.save(net.state_dict(), 'model.pth')\n",
    "        torch.save(optimizer.state_dict(), 'optimizer.pth')"
   ]
  },
  {
   "cell_type": "code",
   "execution_count": null,
   "metadata": {},
   "outputs": [],
   "source": [
    "def test():\n",
    "    net.eval()\n",
    "    test_loss = 0\n",
    "    correct = 0\n",
    "    with torch.no_grad():\n",
    "        for data, target in test_loader:\n",
    "            output = net(data)\n",
    "            test_loss += F.nll_loss(output, target, reduction='sum').item()\n",
    "            pred = output.data.max(1, keepdim=True)[1]\n",
    "            correct += pred.eq(target.data.view_as(pred)).sum()\n",
    "    test_loss /= len(test_loader.dataset)\n",
    "    test_losses.append(test_loss)\n",
    "    print('\\nTest set: Avg. loss: {:.4f}, Accuracy: {}/{} ({:.0f}%)\\n'.format(\n",
    "    test_loss, correct, len(test_loader.dataset),\n",
    "    100. * correct / len(test_loader.dataset)))"
   ]
  },
  {
   "cell_type": "code",
   "execution_count": null,
   "metadata": {},
   "outputs": [],
   "source": [
    "def model(data, labels, learning_rate=0.01, n_epochs=5, ):\n",
    "    create_images(data, labels)\n",
    "    \n",
    "    \n",
    "    \n",
    "    net = Net()\n",
    "    optimizer = optim.Adam(net.parameters(), lr=learning_rate)\n",
    "    \n",
    "    for epoch in range(1, n_epochs + 1):\n",
    "        train(epoch)"
   ]
  },
  {
   "cell_type": "code",
   "execution_count": 1,
   "metadata": {},
   "outputs": [],
   "source": [
    "LETTER_IMAGES_FOLDER = '../data/letters'"
   ]
  },
  {
   "cell_type": "code",
   "execution_count": 20,
   "metadata": {},
   "outputs": [],
   "source": [
    "# initialize the data and labels\n",
    "data = []\n",
    "labels = []\n",
    "\n",
    "# loop over the input images\n",
    "for image_file in paths.list_images(LETTER_IMAGES_FOLDER):\n",
    "    # Load the image and convert it to grayscale\n",
    "    image = cv2.imread(image_file)\n",
    "    image = cv2.cvtColor(image, cv2.COLOR_BGR2GRAY)\n",
    "\n",
    "    # Resize the letter so it fits in a 28x28 pixel box\n",
    "    image = resize_to_fit(image, 28, 28)\n",
    "\n",
    "    # Add a third channel dimension to the image to make Keras happy\n",
    "    image = np.expand_dims(image, axis=2)\n",
    "\n",
    "    # Grab the name of the letter based on the folder it was in\n",
    "    label = image_file.split(os.path.sep)[-2]\n",
    "\n",
    "    # Add the letter image and it's label to our training data\n",
    "    data.append(image)\n",
    "    labels.append(label)\n"
   ]
  },
  {
   "cell_type": "code",
   "execution_count": 21,
   "metadata": {},
   "outputs": [],
   "source": [
    "# scale the raw pixel intensities to the range [0, 1] (this improves training)\n",
    "data = np.array(data, dtype=\"float\") / 255.0\n",
    "labels = np.array(labels)"
   ]
  },
  {
   "cell_type": "code",
   "execution_count": 22,
   "metadata": {},
   "outputs": [],
   "source": [
    "# Split the training data into separate train and test sets\n",
    "(X_train, X_test, y_train, y_test) = train_test_split(data, labels, test_size=0.25, random_state=0)\n",
    "\n",
    "# Convert the labels (letters) into one-hot encodings that Keras can work with\n",
    "le = LabelEncoder().fit(y_train)\n",
    "y_train = le.transform(y_train)\n",
    "y_test = le.transform(y_test)"
   ]
  },
  {
   "cell_type": "code",
   "execution_count": 23,
   "metadata": {},
   "outputs": [],
   "source": [
    "batch_size_train = 100\n",
    "batch_size_test = 1000\n",
    "learning_rate = 0.01\n",
    "n_epochs = 15\n",
    "log_interval = 10"
   ]
  },
  {
   "cell_type": "code",
   "execution_count": 24,
   "metadata": {},
   "outputs": [],
   "source": [
    "X_train_t = (torch.from_numpy(X_train).float().transpose(1,3)).transpose(2,3)\n",
    "y_train_t = torch.from_numpy(y_train).long()\n",
    "\n",
    "train_data = torch.utils.data.TensorDataset(X_train_t, y_train_t)\n",
    "train_loader = torch.utils.data.DataLoader(train_data, batch_size=round(batch_size_train), shuffle=True)"
   ]
  },
  {
   "cell_type": "code",
   "execution_count": 25,
   "metadata": {},
   "outputs": [],
   "source": [
    "X_test_t = (torch.from_numpy(X_test).float().transpose(1,3)).transpose(2,3)\n",
    "y_test_t = torch.from_numpy(y_test).long()\n",
    "\n",
    "test_data = torch.utils.data.TensorDataset(X_test_t, y_test_t)\n",
    "test_loader = torch.utils.data.DataLoader(test_data, batch_size=batch_size_test, shuffle=True)"
   ]
  },
  {
   "cell_type": "code",
   "execution_count": null,
   "metadata": {},
   "outputs": [],
   "source": []
  }
 ],
 "metadata": {
  "kernelspec": {
   "display_name": "Python 3",
   "language": "python",
   "name": "python3"
  },
  "language_info": {
   "codemirror_mode": {
    "name": "ipython",
    "version": 3
   },
   "file_extension": ".py",
   "mimetype": "text/x-python",
   "name": "python",
   "nbconvert_exporter": "python",
   "pygments_lexer": "ipython3",
   "version": "3.7.3"
  }
 },
 "nbformat": 4,
 "nbformat_minor": 2
}
